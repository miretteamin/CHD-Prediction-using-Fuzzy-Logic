{
 "cells": [
  {
   "cell_type": "markdown",
   "metadata": {},
   "source": [
    "Fuzzification"
   ]
  },
  {
   "cell_type": "code",
   "execution_count": 2,
   "metadata": {},
   "outputs": [],
   "source": [
    "def trapmf(fuzzySets, crispValue):\n",
    "    if(fuzzySets[1]- fuzzySets[0]!=0):\n",
    "        slope1 = (1-0)/( fuzzySets[1]- fuzzySets[0])\n",
    "    if(fuzzySets[2]- fuzzySets[3]!=0):\n",
    "        slope2 = (1-0)/( fuzzySets[2]- fuzzySets[3])\n",
    "        \n",
    "    if (fuzzySets[1]<=crispValue <= fuzzySets[2]):\n",
    "        crispValue = 1\n",
    "    elif(fuzzySets[0]<=crispValue < fuzzySets[1]):\n",
    "        crispValue = (crispValue -fuzzySets[0])* slope1\n",
    "    elif(fuzzySets[2]< crispValue <= fuzzySets[3]):\n",
    "        crispValue = ((crispValue -fuzzySets[2]) * slope2 ) + 1\n",
    "    else: \n",
    "        crispValue =0\n",
    "    return crispValue"
   ]
  },
  {
   "cell_type": "code",
   "execution_count": 3,
   "metadata": {},
   "outputs": [],
   "source": [
    "def trimf(fuzzySets, crispValue):\n",
    "    if( fuzzySets[1]- fuzzySets[0] !=0 ):\n",
    "        slope1 = (1-0)/( fuzzySets[1]- fuzzySets[0])\n",
    "\n",
    "    if(fuzzySets[1]- fuzzySets[2]!=0):\n",
    "        slope2 = (1-0)/( fuzzySets[1]- fuzzySets[2])\n",
    "\n",
    "    if (crispValue==fuzzySets[1]):\n",
    "        crispValue = 1\n",
    "    elif(fuzzySets[0]<=crispValue < fuzzySets[1]):\n",
    "        crispValue = (crispValue -fuzzySets[0])* slope1\n",
    "    elif(fuzzySets[1]< crispValue <= fuzzySets[2]):\n",
    "        crispValue = ((crispValue -fuzzySets[1]) * slope2) + 1\n",
    "    else:\n",
    "        crispValue =0\n",
    "\n",
    "    return crispValue\n"
   ]
  },
  {
   "cell_type": "code",
   "execution_count": 9,
   "metadata": {},
   "outputs": [],
   "source": [
    "def fuzzify(fuzzySets, crispValue):\n",
    "    memberships = []\n",
    "    for i in range (len(fuzzySets)):\n",
    "        if(len(fuzzySets[i])==4):\n",
    "           memberships.append(trapmf(fuzzySets[i], crispValue))\n",
    "        elif(len(fuzzySets[i])==3):\n",
    "            memberships.append(trimf(fuzzySets[i], crispValue))\n",
    "        else:\n",
    "            memberships.append(\"wrong membership\")\n",
    "    return memberships"
   ]
  },
  {
   "cell_type": "code",
   "execution_count": 10,
   "metadata": {},
   "outputs": [
    {
     "data": {
      "text/plain": [
       "[0.7, 0.30000000000000004]"
      ]
     },
     "execution_count": 10,
     "metadata": {},
     "output_type": "execute_result"
    }
   ],
   "source": [
    "#Lecture example\n",
    "fuzzySets = [[0,0,30,50], [30,50,70] ]\n",
    "crispValue = 36\n",
    "fuzzify(fuzzySets, crispValue)"
   ]
  },
  {
   "cell_type": "code",
   "execution_count": 11,
   "metadata": {},
   "outputs": [
    {
     "data": {
      "text/plain": [
       "[0, 1, 0.125]"
      ]
     },
     "execution_count": 11,
     "metadata": {},
     "output_type": "execute_result"
    }
   ],
   "source": [
    "#Sample test\n",
    "fuzzySets = [[0,0,40], [30,35,45,50], [40,80,80]]\n",
    "crispValue = 45\n",
    "fuzzify(fuzzySets, crispValue)"
   ]
  },
  {
   "cell_type": "markdown",
   "metadata": {},
   "source": [
    "Defuzzification"
   ]
  },
  {
   "cell_type": "code",
   "execution_count": 84,
   "metadata": {},
   "outputs": [],
   "source": [
    "def detrapmf(fuzzySets, fuzzyValue):\n",
    "    slope1 = ( fuzzySets[1]- fuzzySets[0])\n",
    "    slope2 = ( fuzzySets[2]- fuzzySets[3])\n",
    "\n",
    "    if(fuzzyValue ==0):\n",
    "        crispValue = [fuzzySets[0], fuzzySets[3]]\n",
    "    elif( fuzzyValue == 1):\n",
    "        crispValue = [fuzzySets[1], fuzzySets[2]]\n",
    "    elif( 0< fuzzyValue< 1):\n",
    "        # if(fuzzySets[1]- fuzzySets[0]==0):\n",
    "        #     return ((slope2)*(fuzzyValue-1))+fuzzySets[1]\n",
    "\n",
    "        # if(fuzzySets[2]- fuzzySets[3]==0):\n",
    "        #     return ((fuzzyValue*(slope1))+ fuzzySets[0])\n",
    "        # else:\n",
    "             return [(fuzzyValue*(slope1))+ fuzzySets[0], ((slope2)*(fuzzyValue-1))+fuzzySets[2]]\n",
    "    \n",
    "    \n",
    "    return crispValue"
   ]
  },
  {
   "cell_type": "code",
   "execution_count": 83,
   "metadata": {},
   "outputs": [],
   "source": [
    "def detrimf(fuzzySets, fuzzyValue):\n",
    "    Inv_slope1 = fuzzySets[1]- fuzzySets[0]\n",
    "    Inv_slope2 = ( fuzzySets[1]- fuzzySets[2])\n",
    "\n",
    "    if(fuzzyValue ==0):\n",
    "        crispValue = [fuzzySets[0], fuzzySets[2]]\n",
    "    elif( fuzzyValue == 1):\n",
    "        crispValue = [fuzzySets[1]]\n",
    "    elif( 0< fuzzyValue< 1):\n",
    "        # if(fuzzySets[1]- fuzzySets[0]==0):\n",
    "        #     return ((Inv_slope2)*(fuzzyValue-1))+fuzzySets[1]\n",
    "\n",
    "        # if(fuzzySets[2]- fuzzySets[1]==0):\n",
    "        #     return ((fuzzyValue*(Inv_slope1))+ fuzzySets[0])\n",
    "        # else: \n",
    "            return [((fuzzyValue*(Inv_slope1))+ fuzzySets[0]), ((Inv_slope2)*(fuzzyValue-1))+fuzzySets[1]]\n",
    "    \n",
    "    return crispValue\n",
    "    \n"
   ]
  },
  {
   "cell_type": "code",
   "execution_count": null,
   "metadata": {},
   "outputs": [],
   "source": [
    "#to choose the anser from member function \n",
    "def findAnswer(memberships, crispValue ):\n",
    "    if(not np.any(crispValue)):\n",
    "        #all zeros\n",
    "        answer = \"Value is out of all ranges OR it lies on one of memberships' starting/ending points\"\n",
    "    # else:\n",
    "        #\n",
    "    # return answer"
   ]
  },
  {
   "cell_type": "code",
   "execution_count": 96,
   "metadata": {},
   "outputs": [],
   "source": [
    "def defuzzify(fuzzySets, crispValue):\n",
    "    memberships = []\n",
    "    for i in range (len(fuzzySets)):\n",
    "        if(len(fuzzySets[i])==4):\n",
    "           memberships.append(detrapmf(fuzzySets[i], crispValue[i]))\n",
    "        elif(len(fuzzySets[i])==3):\n",
    "            memberships.append(detrimf(fuzzySets[i], crispValue[i]))\n",
    "        else:\n",
    "            memberships.append(\"wrong membership\")\n",
    "    \n",
    "   #findAnswer(memberships, crispValue ):\n",
    " \n",
    "    return memberships"
   ]
  },
  {
   "cell_type": "code",
   "execution_count": 104,
   "metadata": {},
   "outputs": [
    {
     "name": "stdout",
     "output_type": "stream",
     "text": [
      "[[0, 2500], [1000, 4000], [5000]]\n"
     ]
    }
   ],
   "source": [
    "fanSpeed = [[0,0,2500], [1000,2500,4000], [2500, 5000, 5000]]\n",
    "fanMemDegrees = [0, 0, 1]\n",
    "print(defuzzify(fanSpeed, fanMemDegrees))\n",
    "#output mentioned in the test case is wrong\n"
   ]
  },
  {
   "cell_type": "code",
   "execution_count": 85,
   "metadata": {},
   "outputs": [
    {
     "name": "stdout",
     "output_type": "stream",
     "text": [
      "[[0, 40], [35, 45], [45.0, 80.0]]\n"
     ]
    }
   ],
   "source": [
    "fanSpeed = [[0,0,40], [30,35,45,50], [40,80,80]]\n",
    "fanMemDegrees = [0, 1, 0.125]\n",
    "print(defuzzify(fanSpeed, fanMemDegrees))\n",
    "#defuzzify the above fuzzified examples   answer is 45  (number that's common between the activated fanMemDegrees)"
   ]
  },
  {
   "cell_type": "code",
   "execution_count": 98,
   "metadata": {},
   "outputs": [
    {
     "name": "stdout",
     "output_type": "stream",
     "text": [
      "[[0.0, 36.0], [36.0, 64.0]]\n"
     ]
    }
   ],
   "source": [
    "fanSpeed = [[0,0,30,50], [30,50,70] ]\n",
    "fanMemDegrees = [0.7, 0.30000000000000004]\n",
    "print(defuzzify(fanSpeed, fanMemDegrees))\n",
    "#defuzzify the above fuzzified examples  answer is 36  (number that's common between the activated fanMemDegrees)"
   ]
  },
  {
   "cell_type": "code",
   "execution_count": null,
   "metadata": {},
   "outputs": [],
   "source": [
    "\"\"\"\n",
    "someone please check this \n",
    "\"\"\"\n",
    "import numpy as np\n",
    "def defuzzify(memberships, fuzzysets):\n",
    "  valueRanges =  [ np.where(np.array(i) != 0)[0] for i in fuzzysets]\n",
    "  print(valueRanges)\n",
    "  centers = [ i[len(i)//2] for i in valueRanges]\n",
    "  # memberships = [max(np.array([v]).reshape(-1)) for v in memberships]\n",
    "  print(centers)\n",
    "  return (np.array(centers) * np.array(memberships)).sum() / sum(memberships)"
   ]
  }
 ],
 "metadata": {
  "interpreter": {
   "hash": "2e3b6b0b99173f9265a096c919266c1e062fa40aa56c24545495bcfe878eb41d"
  },
  "kernelspec": {
   "display_name": "Python 3.9.5 64-bit",
   "language": "python",
   "name": "python3"
  },
  "language_info": {
   "codemirror_mode": {
    "name": "ipython",
    "version": 3
   },
   "file_extension": ".py",
   "mimetype": "text/x-python",
   "name": "python",
   "nbconvert_exporter": "python",
   "pygments_lexer": "ipython3",
   "version": "3.9.5"
  },
  "orig_nbformat": 4
 },
 "nbformat": 4,
 "nbformat_minor": 2
}
