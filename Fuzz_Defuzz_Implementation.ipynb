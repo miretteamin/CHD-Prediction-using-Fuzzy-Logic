{
 "cells": [
  {
   "cell_type": "markdown",
   "metadata": {},
   "source": [
    "Fuzzification"
   ]
  },
  {
   "cell_type": "code",
   "execution_count": 1,
   "metadata": {},
   "outputs": [],
   "source": [
    "def trapmf(fuzzySets, crispValue):\n",
    "    if(fuzzySets[1]- fuzzySets[0]!=0):\n",
    "        slope1 = (1-0)/( fuzzySets[1]- fuzzySets[0])\n",
    "    if(fuzzySets[2]- fuzzySets[3]!=0):\n",
    "        slope2 = (1-0)/( fuzzySets[2]- fuzzySets[3])\n",
    "    \n",
    "    if (fuzzySets[1]<=crispValue <= fuzzySets[2]):\n",
    "        fuzzyValue = 1\n",
    "    elif(fuzzySets[0]<=crispValue < fuzzySets[1]):\n",
    "        fuzzyValue = (crispValue -fuzzySets[0])* slope1\n",
    "    elif(fuzzySets[2]< crispValue <= fuzzySets[3]):\n",
    "        fuzzyValue = ((crispValue -fuzzySets[2]) * slope2 ) + 1\n",
    "    else: \n",
    "        fuzzyValue =0\n",
    "    return fuzzyValue"
   ]
  },
  {
   "cell_type": "code",
   "execution_count": 2,
   "metadata": {},
   "outputs": [],
   "source": [
    "def trimf(fuzzySets, crispValue):\n",
    "    if( fuzzySets[1]- fuzzySets[0] !=0 ):\n",
    "        slope1 = (1-0)/( fuzzySets[1]- fuzzySets[0])\n",
    "\n",
    "    if(fuzzySets[1]- fuzzySets[2]!=0):\n",
    "        slope2 = (1-0)/( fuzzySets[1]- fuzzySets[2])\n",
    "\n",
    "    if (crispValue==fuzzySets[1]):\n",
    "        fuzzyValue = 1\n",
    "    elif(fuzzySets[0]<=crispValue < fuzzySets[1]):\n",
    "        fuzzyValue = (crispValue -fuzzySets[0])* slope1\n",
    "    elif(fuzzySets[1]< crispValue <= fuzzySets[2]):\n",
    "        fuzzyValue = ((crispValue -fuzzySets[1]) * slope2) + 1\n",
    "    else:\n",
    "        fuzzyValue =0\n",
    "\n",
    "    return fuzzyValue\n"
   ]
  },
  {
   "cell_type": "code",
   "execution_count": 3,
   "metadata": {},
   "outputs": [],
   "source": [
    "def fuzzify(fuzzySets, crispValue):\n",
    "    memberships = []\n",
    "    for i in range (len(fuzzySets)):\n",
    "        if(len(fuzzySets[i])==4):\n",
    "           memberships.append(trapmf(fuzzySets[i], crispValue))\n",
    "        elif(len(fuzzySets[i])==3):\n",
    "            memberships.append(trimf(fuzzySets[i], crispValue))\n",
    "        else:\n",
    "            memberships.append(\"wrong membership\")\n",
    "    return memberships"
   ]
  },
  {
   "cell_type": "code",
   "execution_count": 4,
   "metadata": {},
   "outputs": [
    {
     "data": {
      "text/plain": [
       "[0.7, 0.30000000000000004]"
      ]
     },
     "execution_count": 4,
     "metadata": {},
     "output_type": "execute_result"
    }
   ],
   "source": [
    "#Lecture example\n",
    "fuzzySets = [[0,0,30,50], [30,50,70] ]\n",
    "crispValue = 36\n",
    "fuzzify(fuzzySets, crispValue)"
   ]
  },
  {
   "cell_type": "code",
   "execution_count": 5,
   "metadata": {},
   "outputs": [
    {
     "data": {
      "text/plain": [
       "[0, 1, 0.125]"
      ]
     },
     "execution_count": 5,
     "metadata": {},
     "output_type": "execute_result"
    }
   ],
   "source": [
    "#Sample test\n",
    "fuzzySets = [[0,0,40], [30,35,45,50], [40,80,80]]\n",
    "crispValue = 45\n",
    "fuzzify(fuzzySets, crispValue)"
   ]
  },
  {
   "cell_type": "markdown",
   "metadata": {},
   "source": [
    "Defuzzification using weighted average"
   ]
  },
  {
   "cell_type": "code",
   "execution_count": 8,
   "metadata": {},
   "outputs": [],
   "source": [
    "import numpy as np\n",
    "\n",
    "def defuzzify(memberships, fuzzySets):\n",
    "  centroids = []\n",
    "  for i in range(len(fuzzySets)):\n",
    "    temp = np.array(fuzzySets[i])\n",
    "    centroids.append(np.sum(temp)/len(fuzzySets[i]))\n",
    "  centroids = np.array(centroids)\n",
    "  crispOutput = np.sum((centroids * memberships))/ np.sum(memberships)\n",
    "  return crispOutput"
   ]
  },
  {
   "cell_type": "code",
   "execution_count": 33,
   "metadata": {},
   "outputs": [
    {
     "name": "stdout",
     "output_type": "stream",
     "text": [
      "[0, 1, 0.125]\n",
      "4166.666666666667\n",
      "[0, 0, 0.6666666666666669]\n",
      "4166.666666666667\n"
     ]
    }
   ],
   "source": [
    "# Lab Example\n",
    "coreTemp = [[0,0,40], [30,35,45,50], [40,80,80]]\n",
    "clockSpeed = [[0,0,1.5], [1.5,3,3]]\n",
    "fanSpeed = [[0, 0, 2500], [1000, 2500, 4000], [2500, 5000, 5000]]\n",
    "fanMemDegrees = [0, 0, 0.333]\n",
    "\n",
    "print(fuzzify(coreTemp, 45))\n",
    "print(defuzzify(fanMemDegrees, fanSpeed))\n",
    "\n",
    "# Testing\n",
    "print(fuzzify(fanSpeed, 4166.666666666667))\n",
    "print(defuzzify([0, 0, 0.6666666666666669], fanSpeed))"
   ]
  },
  {
   "cell_type": "code",
   "execution_count": 34,
   "metadata": {},
   "outputs": [
    {
     "name": "stdout",
     "output_type": "stream",
     "text": [
      "[0.7, 0.30000000000000004, 0, 0]\n",
      "63.88888888888889\n",
      "[0.22224, 0.77776]\n",
      "29.0\n"
     ]
    }
   ],
   "source": [
    "# Lecture Example\n",
    "temp = [[0,0,30,50], [30,50,70], [50, 70, 90], [70, 90, 110, 110]]\n",
    "cover = [[0, 0, 20, 40], [20, 50, 80], [60, 80, 100, 100]]\n",
    "carSpeed = [[0, 0, 25, 75], [25, 75, 100, 100]]\n",
    "\n",
    "carSpeedMemDegrees = [0.2, 0.7]\n",
    "\n",
    "print(fuzzify(temp, 36))\n",
    "print(defuzzify(carSpeedMemDegrees, carSpeed))\n",
    "\n",
    "# Testing\n",
    "print(fuzzify(carSpeed, 63.888))\n",
    "print(defuzzify([0.7, 0.30000000000000004, 0, 0], temp))"
   ]
  },
  {
   "cell_type": "markdown",
   "metadata": {},
   "source": [
    "Defuzzification using Slope"
   ]
  },
  {
   "cell_type": "code",
   "execution_count": null,
   "metadata": {},
   "outputs": [],
   "source": [
    "# def detrapmf(fuzzySets, fuzzyValue):\n",
    "#     slope1 = ( fuzzySets[1]- fuzzySets[0])\n",
    "#     slope2 = ( fuzzySets[2]- fuzzySets[3])\n",
    "\n",
    "#     if(fuzzyValue ==0):\n",
    "#         crispValue = [fuzzySets[0], fuzzySets[3]]\n",
    "#     elif( fuzzyValue == 1):\n",
    "#         crispValue = [fuzzySets[1], fuzzySets[2]]\n",
    "#     elif( 0< fuzzyValue< 1):\n",
    "#         # if(fuzzySets[1]- fuzzySets[0]==0):\n",
    "#         #     return ((slope2)*(fuzzyValue-1))+fuzzySets[1]\n",
    "\n",
    "#         # if(fuzzySets[2]- fuzzySets[3]==0):\n",
    "#         #     return ((fuzzyValue*(slope1))+ fuzzySets[0])\n",
    "#         # else:\n",
    "#              return [(fuzzyValue*(slope1))+ fuzzySets[0], ((slope2)*(fuzzyValue-1))+fuzzySets[2]]\n",
    "    \n",
    "    \n",
    "#     return crispValue\n",
    "\n",
    "# def detrimf(fuzzySets, fuzzyValue):\n",
    "#     Inv_slope1 = fuzzySets[1]- fuzzySets[0]\n",
    "#     Inv_slope2 = ( fuzzySets[1]- fuzzySets[2])\n",
    "\n",
    "#     if(fuzzyValue ==0):\n",
    "#         crispValue = [fuzzySets[0], fuzzySets[2]]\n",
    "#     elif( fuzzyValue == 1):\n",
    "#         crispValue = [fuzzySets[1]]\n",
    "#     elif( 0< fuzzyValue< 1):\n",
    "#         # if(fuzzySets[1]- fuzzySets[0]==0):\n",
    "#         #     return ((Inv_slope2)*(fuzzyValue-1))+fuzzySets[1]\n",
    "\n",
    "#         # if(fuzzySets[2]- fuzzySets[1]==0):\n",
    "#         #     return ((fuzzyValue*(Inv_slope1))+ fuzzySets[0])\n",
    "#         # else: \n",
    "#             return [((fuzzyValue*(Inv_slope1))+ fuzzySets[0]), ((Inv_slope2)*(fuzzyValue-1))+fuzzySets[1]]\n",
    "    \n",
    "#     return crispValue\n",
    "\n",
    "\n",
    "# #to choose the anser from member function \n",
    "# def findAnswer(memberships, crispValue ):\n",
    "#     if(not np.any(crispValue)):\n",
    "#         #all zeros\n",
    "#         answer = \"Value is out of all ranges OR it lies on one of memberships' starting/ending points\"\n",
    "#     # else:\n",
    "#         #\n",
    "#     # return answer\n",
    "\n",
    "# def defuzzify(fuzzySets, crispValue):\n",
    "#     memberships = []\n",
    "#     for i in range (len(fuzzySets)):\n",
    "#         if(len(fuzzySets[i])==4):\n",
    "#            memberships.append(detrapmf(fuzzySets[i], crispValue[i]))\n",
    "#         elif(len(fuzzySets[i])==3):\n",
    "#             memberships.append(detrimf(fuzzySets[i], crispValue[i]))\n",
    "#         else:\n",
    "#             memberships.append(\"wrong membership\")\n",
    "    \n",
    "#    #findAnswer(memberships, crispValue ):\n",
    " \n",
    "#     return memberships"
   ]
  }
 ],
 "metadata": {
  "interpreter": {
   "hash": "2e3b6b0b99173f9265a096c919266c1e062fa40aa56c24545495bcfe878eb41d"
  },
  "kernelspec": {
   "display_name": "Python 3.9.5 64-bit",
   "language": "python",
   "name": "python3"
  },
  "language_info": {
   "codemirror_mode": {
    "name": "ipython",
    "version": 3
   },
   "file_extension": ".py",
   "mimetype": "text/x-python",
   "name": "python",
   "nbconvert_exporter": "python",
   "pygments_lexer": "ipython3",
   "version": "3.9.5"
  },
  "orig_nbformat": 4
 },
 "nbformat": 4,
 "nbformat_minor": 2
}
