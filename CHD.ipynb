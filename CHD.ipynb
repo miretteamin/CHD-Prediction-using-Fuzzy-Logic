{
 "cells": [
  {
   "cell_type": "code",
   "execution_count": 1,
   "metadata": {},
   "outputs": [],
   "source": [
    "import skfuzzy as fuzz\n",
    "import numpy as np\n",
    "import pandas as pd\n",
    "from skfuzzy import control as ctrl\n"
   ]
  },
  {
   "cell_type": "code",
   "execution_count": 2,
   "metadata": {},
   "outputs": [
    {
     "data": {
      "text/html": [
       "<div>\n",
       "<style scoped>\n",
       "    .dataframe tbody tr th:only-of-type {\n",
       "        vertical-align: middle;\n",
       "    }\n",
       "\n",
       "    .dataframe tbody tr th {\n",
       "        vertical-align: top;\n",
       "    }\n",
       "\n",
       "    .dataframe thead th {\n",
       "        text-align: right;\n",
       "    }\n",
       "</style>\n",
       "<table border=\"1\" class=\"dataframe\">\n",
       "  <thead>\n",
       "    <tr style=\"text-align: right;\">\n",
       "      <th></th>\n",
       "      <th>male</th>\n",
       "      <th>age</th>\n",
       "      <th>education</th>\n",
       "      <th>currentSmoker</th>\n",
       "      <th>cigsPerDay</th>\n",
       "      <th>BPMeds</th>\n",
       "      <th>prevalentStroke</th>\n",
       "      <th>prevalentHyp</th>\n",
       "      <th>diabetes</th>\n",
       "      <th>totChol</th>\n",
       "      <th>sysBP</th>\n",
       "      <th>diaBP</th>\n",
       "      <th>BMI</th>\n",
       "      <th>heartRate</th>\n",
       "      <th>glucose</th>\n",
       "      <th>TenYearCHD</th>\n",
       "    </tr>\n",
       "  </thead>\n",
       "  <tbody>\n",
       "    <tr>\n",
       "      <th>0</th>\n",
       "      <td>1</td>\n",
       "      <td>39</td>\n",
       "      <td>1</td>\n",
       "      <td>0</td>\n",
       "      <td>0.0</td>\n",
       "      <td>0.0</td>\n",
       "      <td>0</td>\n",
       "      <td>0</td>\n",
       "      <td>0</td>\n",
       "      <td>195.0</td>\n",
       "      <td>106.0</td>\n",
       "      <td>70.0</td>\n",
       "      <td>26.97</td>\n",
       "      <td>80.0</td>\n",
       "      <td>77.0</td>\n",
       "      <td>0</td>\n",
       "    </tr>\n",
       "    <tr>\n",
       "      <th>1</th>\n",
       "      <td>0</td>\n",
       "      <td>46</td>\n",
       "      <td>0</td>\n",
       "      <td>0</td>\n",
       "      <td>0.0</td>\n",
       "      <td>0.0</td>\n",
       "      <td>0</td>\n",
       "      <td>0</td>\n",
       "      <td>0</td>\n",
       "      <td>250.0</td>\n",
       "      <td>121.0</td>\n",
       "      <td>81.0</td>\n",
       "      <td>28.73</td>\n",
       "      <td>95.0</td>\n",
       "      <td>76.0</td>\n",
       "      <td>0</td>\n",
       "    </tr>\n",
       "    <tr>\n",
       "      <th>2</th>\n",
       "      <td>1</td>\n",
       "      <td>48</td>\n",
       "      <td>0</td>\n",
       "      <td>1</td>\n",
       "      <td>20.0</td>\n",
       "      <td>0.0</td>\n",
       "      <td>0</td>\n",
       "      <td>0</td>\n",
       "      <td>0</td>\n",
       "      <td>245.0</td>\n",
       "      <td>127.5</td>\n",
       "      <td>80.0</td>\n",
       "      <td>25.34</td>\n",
       "      <td>75.0</td>\n",
       "      <td>70.0</td>\n",
       "      <td>0</td>\n",
       "    </tr>\n",
       "    <tr>\n",
       "      <th>3</th>\n",
       "      <td>0</td>\n",
       "      <td>61</td>\n",
       "      <td>1</td>\n",
       "      <td>1</td>\n",
       "      <td>30.0</td>\n",
       "      <td>0.0</td>\n",
       "      <td>0</td>\n",
       "      <td>1</td>\n",
       "      <td>0</td>\n",
       "      <td>225.0</td>\n",
       "      <td>150.0</td>\n",
       "      <td>95.0</td>\n",
       "      <td>28.58</td>\n",
       "      <td>65.0</td>\n",
       "      <td>103.0</td>\n",
       "      <td>1</td>\n",
       "    </tr>\n",
       "    <tr>\n",
       "      <th>4</th>\n",
       "      <td>0</td>\n",
       "      <td>46</td>\n",
       "      <td>1</td>\n",
       "      <td>1</td>\n",
       "      <td>23.0</td>\n",
       "      <td>0.0</td>\n",
       "      <td>0</td>\n",
       "      <td>0</td>\n",
       "      <td>0</td>\n",
       "      <td>285.0</td>\n",
       "      <td>130.0</td>\n",
       "      <td>84.0</td>\n",
       "      <td>23.10</td>\n",
       "      <td>85.0</td>\n",
       "      <td>85.0</td>\n",
       "      <td>0</td>\n",
       "    </tr>\n",
       "  </tbody>\n",
       "</table>\n",
       "</div>"
      ],
      "text/plain": [
       "   male  age  education  currentSmoker  cigsPerDay  BPMeds  prevalentStroke  \\\n",
       "0     1   39          1              0         0.0     0.0                0   \n",
       "1     0   46          0              0         0.0     0.0                0   \n",
       "2     1   48          0              1        20.0     0.0                0   \n",
       "3     0   61          1              1        30.0     0.0                0   \n",
       "4     0   46          1              1        23.0     0.0                0   \n",
       "\n",
       "   prevalentHyp  diabetes  totChol  sysBP  diaBP    BMI  heartRate  glucose  \\\n",
       "0             0         0    195.0  106.0   70.0  26.97       80.0     77.0   \n",
       "1             0         0    250.0  121.0   81.0  28.73       95.0     76.0   \n",
       "2             0         0    245.0  127.5   80.0  25.34       75.0     70.0   \n",
       "3             1         0    225.0  150.0   95.0  28.58       65.0    103.0   \n",
       "4             0         0    285.0  130.0   84.0  23.10       85.0     85.0   \n",
       "\n",
       "   TenYearCHD  \n",
       "0           0  \n",
       "1           0  \n",
       "2           0  \n",
       "3           1  \n",
       "4           0  "
      ]
     },
     "execution_count": 2,
     "metadata": {},
     "output_type": "execute_result"
    }
   ],
   "source": [
    "dataFrame = pd.read_csv('CHD.csv')\n",
    "dataFrame.head()"
   ]
  },
  {
   "cell_type": "code",
   "execution_count": 30,
   "metadata": {},
   "outputs": [
    {
     "data": {
      "text/html": [
       "<div>\n",
       "<style scoped>\n",
       "    .dataframe tbody tr th:only-of-type {\n",
       "        vertical-align: middle;\n",
       "    }\n",
       "\n",
       "    .dataframe tbody tr th {\n",
       "        vertical-align: top;\n",
       "    }\n",
       "\n",
       "    .dataframe thead th {\n",
       "        text-align: right;\n",
       "    }\n",
       "</style>\n",
       "<table border=\"1\" class=\"dataframe\">\n",
       "  <thead>\n",
       "    <tr style=\"text-align: right;\">\n",
       "      <th></th>\n",
       "      <th>male</th>\n",
       "      <th>age</th>\n",
       "      <th>education</th>\n",
       "      <th>currentSmoker</th>\n",
       "      <th>cigsPerDay</th>\n",
       "      <th>BPMeds</th>\n",
       "      <th>prevalentStroke</th>\n",
       "      <th>prevalentHyp</th>\n",
       "      <th>diabetes</th>\n",
       "      <th>totChol</th>\n",
       "      <th>sysBP</th>\n",
       "      <th>diaBP</th>\n",
       "      <th>BMI</th>\n",
       "      <th>heartRate</th>\n",
       "      <th>glucose</th>\n",
       "      <th>TenYearCHD</th>\n",
       "    </tr>\n",
       "  </thead>\n",
       "  <tbody>\n",
       "    <tr>\n",
       "      <th>0</th>\n",
       "      <td>1</td>\n",
       "      <td>39</td>\n",
       "      <td>1</td>\n",
       "      <td>0</td>\n",
       "      <td>0.0</td>\n",
       "      <td>0.0</td>\n",
       "      <td>0</td>\n",
       "      <td>0</td>\n",
       "      <td>0</td>\n",
       "      <td>195.0</td>\n",
       "      <td>106.0</td>\n",
       "      <td>70.0</td>\n",
       "      <td>26.97</td>\n",
       "      <td>80.0</td>\n",
       "      <td>77.0</td>\n",
       "      <td>0</td>\n",
       "    </tr>\n",
       "    <tr>\n",
       "      <th>1</th>\n",
       "      <td>0</td>\n",
       "      <td>46</td>\n",
       "      <td>0</td>\n",
       "      <td>0</td>\n",
       "      <td>0.0</td>\n",
       "      <td>0.0</td>\n",
       "      <td>0</td>\n",
       "      <td>0</td>\n",
       "      <td>0</td>\n",
       "      <td>250.0</td>\n",
       "      <td>121.0</td>\n",
       "      <td>81.0</td>\n",
       "      <td>28.73</td>\n",
       "      <td>95.0</td>\n",
       "      <td>76.0</td>\n",
       "      <td>0</td>\n",
       "    </tr>\n",
       "    <tr>\n",
       "      <th>2</th>\n",
       "      <td>1</td>\n",
       "      <td>48</td>\n",
       "      <td>0</td>\n",
       "      <td>1</td>\n",
       "      <td>20.0</td>\n",
       "      <td>0.0</td>\n",
       "      <td>0</td>\n",
       "      <td>0</td>\n",
       "      <td>0</td>\n",
       "      <td>245.0</td>\n",
       "      <td>127.5</td>\n",
       "      <td>80.0</td>\n",
       "      <td>25.34</td>\n",
       "      <td>75.0</td>\n",
       "      <td>70.0</td>\n",
       "      <td>0</td>\n",
       "    </tr>\n",
       "    <tr>\n",
       "      <th>3</th>\n",
       "      <td>0</td>\n",
       "      <td>61</td>\n",
       "      <td>1</td>\n",
       "      <td>1</td>\n",
       "      <td>30.0</td>\n",
       "      <td>0.0</td>\n",
       "      <td>0</td>\n",
       "      <td>1</td>\n",
       "      <td>0</td>\n",
       "      <td>225.0</td>\n",
       "      <td>150.0</td>\n",
       "      <td>95.0</td>\n",
       "      <td>28.58</td>\n",
       "      <td>65.0</td>\n",
       "      <td>103.0</td>\n",
       "      <td>1</td>\n",
       "    </tr>\n",
       "    <tr>\n",
       "      <th>4</th>\n",
       "      <td>0</td>\n",
       "      <td>46</td>\n",
       "      <td>1</td>\n",
       "      <td>1</td>\n",
       "      <td>23.0</td>\n",
       "      <td>0.0</td>\n",
       "      <td>0</td>\n",
       "      <td>0</td>\n",
       "      <td>0</td>\n",
       "      <td>285.0</td>\n",
       "      <td>130.0</td>\n",
       "      <td>84.0</td>\n",
       "      <td>23.10</td>\n",
       "      <td>85.0</td>\n",
       "      <td>85.0</td>\n",
       "      <td>0</td>\n",
       "    </tr>\n",
       "    <tr>\n",
       "      <th>...</th>\n",
       "      <td>...</td>\n",
       "      <td>...</td>\n",
       "      <td>...</td>\n",
       "      <td>...</td>\n",
       "      <td>...</td>\n",
       "      <td>...</td>\n",
       "      <td>...</td>\n",
       "      <td>...</td>\n",
       "      <td>...</td>\n",
       "      <td>...</td>\n",
       "      <td>...</td>\n",
       "      <td>...</td>\n",
       "      <td>...</td>\n",
       "      <td>...</td>\n",
       "      <td>...</td>\n",
       "      <td>...</td>\n",
       "    </tr>\n",
       "    <tr>\n",
       "      <th>4128</th>\n",
       "      <td>1</td>\n",
       "      <td>50</td>\n",
       "      <td>0</td>\n",
       "      <td>1</td>\n",
       "      <td>1.0</td>\n",
       "      <td>0.0</td>\n",
       "      <td>0</td>\n",
       "      <td>1</td>\n",
       "      <td>0</td>\n",
       "      <td>313.0</td>\n",
       "      <td>179.0</td>\n",
       "      <td>92.0</td>\n",
       "      <td>25.97</td>\n",
       "      <td>66.0</td>\n",
       "      <td>86.0</td>\n",
       "      <td>1</td>\n",
       "    </tr>\n",
       "    <tr>\n",
       "      <th>4129</th>\n",
       "      <td>1</td>\n",
       "      <td>51</td>\n",
       "      <td>1</td>\n",
       "      <td>1</td>\n",
       "      <td>43.0</td>\n",
       "      <td>0.0</td>\n",
       "      <td>0</td>\n",
       "      <td>0</td>\n",
       "      <td>0</td>\n",
       "      <td>207.0</td>\n",
       "      <td>126.5</td>\n",
       "      <td>80.0</td>\n",
       "      <td>19.71</td>\n",
       "      <td>65.0</td>\n",
       "      <td>68.0</td>\n",
       "      <td>0</td>\n",
       "    </tr>\n",
       "    <tr>\n",
       "      <th>4130</th>\n",
       "      <td>0</td>\n",
       "      <td>48</td>\n",
       "      <td>0</td>\n",
       "      <td>1</td>\n",
       "      <td>20.0</td>\n",
       "      <td>0.0</td>\n",
       "      <td>0</td>\n",
       "      <td>0</td>\n",
       "      <td>0</td>\n",
       "      <td>248.0</td>\n",
       "      <td>131.0</td>\n",
       "      <td>72.0</td>\n",
       "      <td>22.00</td>\n",
       "      <td>84.0</td>\n",
       "      <td>86.0</td>\n",
       "      <td>0</td>\n",
       "    </tr>\n",
       "    <tr>\n",
       "      <th>4131</th>\n",
       "      <td>0</td>\n",
       "      <td>44</td>\n",
       "      <td>0</td>\n",
       "      <td>1</td>\n",
       "      <td>15.0</td>\n",
       "      <td>0.0</td>\n",
       "      <td>0</td>\n",
       "      <td>0</td>\n",
       "      <td>0</td>\n",
       "      <td>210.0</td>\n",
       "      <td>126.5</td>\n",
       "      <td>87.0</td>\n",
       "      <td>19.16</td>\n",
       "      <td>86.0</td>\n",
       "      <td>82.0</td>\n",
       "      <td>0</td>\n",
       "    </tr>\n",
       "    <tr>\n",
       "      <th>4132</th>\n",
       "      <td>0</td>\n",
       "      <td>52</td>\n",
       "      <td>0</td>\n",
       "      <td>0</td>\n",
       "      <td>0.0</td>\n",
       "      <td>0.0</td>\n",
       "      <td>0</td>\n",
       "      <td>0</td>\n",
       "      <td>0</td>\n",
       "      <td>269.0</td>\n",
       "      <td>133.5</td>\n",
       "      <td>83.0</td>\n",
       "      <td>21.47</td>\n",
       "      <td>80.0</td>\n",
       "      <td>107.0</td>\n",
       "      <td>0</td>\n",
       "    </tr>\n",
       "  </tbody>\n",
       "</table>\n",
       "<p>4133 rows × 16 columns</p>\n",
       "</div>"
      ],
      "text/plain": [
       "      male  age  education  currentSmoker  cigsPerDay  BPMeds  \\\n",
       "0        1   39          1              0         0.0     0.0   \n",
       "1        0   46          0              0         0.0     0.0   \n",
       "2        1   48          0              1        20.0     0.0   \n",
       "3        0   61          1              1        30.0     0.0   \n",
       "4        0   46          1              1        23.0     0.0   \n",
       "...    ...  ...        ...            ...         ...     ...   \n",
       "4128     1   50          0              1         1.0     0.0   \n",
       "4129     1   51          1              1        43.0     0.0   \n",
       "4130     0   48          0              1        20.0     0.0   \n",
       "4131     0   44          0              1        15.0     0.0   \n",
       "4132     0   52          0              0         0.0     0.0   \n",
       "\n",
       "      prevalentStroke  prevalentHyp  diabetes  totChol  sysBP  diaBP    BMI  \\\n",
       "0                   0             0         0    195.0  106.0   70.0  26.97   \n",
       "1                   0             0         0    250.0  121.0   81.0  28.73   \n",
       "2                   0             0         0    245.0  127.5   80.0  25.34   \n",
       "3                   0             1         0    225.0  150.0   95.0  28.58   \n",
       "4                   0             0         0    285.0  130.0   84.0  23.10   \n",
       "...               ...           ...       ...      ...    ...    ...    ...   \n",
       "4128                0             1         0    313.0  179.0   92.0  25.97   \n",
       "4129                0             0         0    207.0  126.5   80.0  19.71   \n",
       "4130                0             0         0    248.0  131.0   72.0  22.00   \n",
       "4131                0             0         0    210.0  126.5   87.0  19.16   \n",
       "4132                0             0         0    269.0  133.5   83.0  21.47   \n",
       "\n",
       "      heartRate  glucose  TenYearCHD  \n",
       "0          80.0     77.0           0  \n",
       "1          95.0     76.0           0  \n",
       "2          75.0     70.0           0  \n",
       "3          65.0    103.0           1  \n",
       "4          85.0     85.0           0  \n",
       "...         ...      ...         ...  \n",
       "4128       66.0     86.0           1  \n",
       "4129       65.0     68.0           0  \n",
       "4130       84.0     86.0           0  \n",
       "4131       86.0     82.0           0  \n",
       "4132       80.0    107.0           0  \n",
       "\n",
       "[4133 rows x 16 columns]"
      ]
     },
     "execution_count": 30,
     "metadata": {},
     "output_type": "execute_result"
    }
   ],
   "source": [
    "dataFrame"
   ]
  },
  {
   "cell_type": "code",
   "execution_count": 31,
   "metadata": {},
   "outputs": [],
   "source": [
    "# dataFrame= dataFrame.drop(['BPMeds', 'currentSmoker', 'diaBP', 'diabetes', 'sysBP', 'prevalentStroke', 'prevalentHyp', 'glucose' ], axis=1)\n",
    "# dataFrame"
   ]
  },
  {
   "cell_type": "code",
   "execution_count": 32,
   "metadata": {},
   "outputs": [],
   "source": [
    "# # import matplotlib.pyplot as plt\n",
    "\n",
    "# plt.scatter(dataFrame['BMI'], dataFrame['TenYearCHD'])\n",
    "# plt.rcParams.update({'figure.figsize':(10,8), 'figure.dpi':100})\n",
    "# plt.title('Simple Scatter plot')\n",
    "# plt.xlabel('X - value')\n",
    "# plt.ylabel('Y - value')\n",
    "# plt.show()"
   ]
  },
  {
   "cell_type": "code",
   "execution_count": 33,
   "metadata": {},
   "outputs": [],
   "source": [
    "# # import seaborn as sns\n",
    "\n",
    "# sns.catplot(x='BPMeds',hue='TenYearCHD',data=dataFrame,kind=\"count\")"
   ]
  },
  {
   "cell_type": "code",
   "execution_count": null,
   "metadata": {},
   "outputs": [],
   "source": []
  },
  {
   "cell_type": "code",
   "execution_count": 34,
   "metadata": {},
   "outputs": [],
   "source": [
    "# df = dataFrame[['BMI', 'male', 'cigsPerDay','totChol', 'TenYearCHD']]\n",
    "# df= df[df['cigsPerDay']>=1]\n",
    "# print(df)\n",
    "# df = df[df['TenYearCHD']==1]\n",
    "# print(df)"
   ]
  },
  {
   "cell_type": "code",
   "execution_count": 35,
   "metadata": {},
   "outputs": [
    {
     "data": {
      "text/html": [
       "<div>\n",
       "<style scoped>\n",
       "    .dataframe tbody tr th:only-of-type {\n",
       "        vertical-align: middle;\n",
       "    }\n",
       "\n",
       "    .dataframe tbody tr th {\n",
       "        vertical-align: top;\n",
       "    }\n",
       "\n",
       "    .dataframe thead th {\n",
       "        text-align: right;\n",
       "    }\n",
       "</style>\n",
       "<table border=\"1\" class=\"dataframe\">\n",
       "  <thead>\n",
       "    <tr style=\"text-align: right;\">\n",
       "      <th></th>\n",
       "      <th>male</th>\n",
       "      <th>age</th>\n",
       "      <th>education</th>\n",
       "      <th>currentSmoker</th>\n",
       "      <th>cigsPerDay</th>\n",
       "      <th>BPMeds</th>\n",
       "      <th>prevalentStroke</th>\n",
       "      <th>prevalentHyp</th>\n",
       "      <th>diabetes</th>\n",
       "      <th>totChol</th>\n",
       "      <th>sysBP</th>\n",
       "      <th>diaBP</th>\n",
       "      <th>BMI</th>\n",
       "      <th>heartRate</th>\n",
       "      <th>glucose</th>\n",
       "      <th>TenYearCHD</th>\n",
       "    </tr>\n",
       "  </thead>\n",
       "  <tbody>\n",
       "    <tr>\n",
       "      <th>count</th>\n",
       "      <td>4133.000000</td>\n",
       "      <td>4133.000000</td>\n",
       "      <td>4133.000000</td>\n",
       "      <td>4133.000000</td>\n",
       "      <td>4133.000000</td>\n",
       "      <td>4133.000000</td>\n",
       "      <td>4133.000000</td>\n",
       "      <td>4133.000000</td>\n",
       "      <td>4133.000000</td>\n",
       "      <td>4133.000000</td>\n",
       "      <td>4133.000000</td>\n",
       "      <td>4133.000000</td>\n",
       "      <td>4133.000000</td>\n",
       "      <td>4133.000000</td>\n",
       "      <td>4133.000000</td>\n",
       "      <td>4133.000000</td>\n",
       "    </tr>\n",
       "    <tr>\n",
       "      <th>mean</th>\n",
       "      <td>0.427293</td>\n",
       "      <td>49.557222</td>\n",
       "      <td>0.280668</td>\n",
       "      <td>0.494798</td>\n",
       "      <td>9.101621</td>\n",
       "      <td>0.034358</td>\n",
       "      <td>0.006049</td>\n",
       "      <td>0.311154</td>\n",
       "      <td>0.025647</td>\n",
       "      <td>236.664408</td>\n",
       "      <td>132.367046</td>\n",
       "      <td>82.872248</td>\n",
       "      <td>25.778571</td>\n",
       "      <td>75.925236</td>\n",
       "      <td>81.946528</td>\n",
       "      <td>0.151948</td>\n",
       "    </tr>\n",
       "    <tr>\n",
       "      <th>std</th>\n",
       "      <td>0.494745</td>\n",
       "      <td>8.561628</td>\n",
       "      <td>0.449380</td>\n",
       "      <td>0.500033</td>\n",
       "      <td>11.918440</td>\n",
       "      <td>0.182168</td>\n",
       "      <td>0.077548</td>\n",
       "      <td>0.463022</td>\n",
       "      <td>0.158100</td>\n",
       "      <td>43.909188</td>\n",
       "      <td>22.080332</td>\n",
       "      <td>11.952654</td>\n",
       "      <td>4.074360</td>\n",
       "      <td>12.049188</td>\n",
       "      <td>22.860954</td>\n",
       "      <td>0.359014</td>\n",
       "    </tr>\n",
       "    <tr>\n",
       "      <th>min</th>\n",
       "      <td>0.000000</td>\n",
       "      <td>32.000000</td>\n",
       "      <td>0.000000</td>\n",
       "      <td>0.000000</td>\n",
       "      <td>0.000000</td>\n",
       "      <td>0.000000</td>\n",
       "      <td>0.000000</td>\n",
       "      <td>0.000000</td>\n",
       "      <td>0.000000</td>\n",
       "      <td>107.000000</td>\n",
       "      <td>83.500000</td>\n",
       "      <td>48.000000</td>\n",
       "      <td>15.540000</td>\n",
       "      <td>44.000000</td>\n",
       "      <td>40.000000</td>\n",
       "      <td>0.000000</td>\n",
       "    </tr>\n",
       "    <tr>\n",
       "      <th>25%</th>\n",
       "      <td>0.000000</td>\n",
       "      <td>42.000000</td>\n",
       "      <td>0.000000</td>\n",
       "      <td>0.000000</td>\n",
       "      <td>0.000000</td>\n",
       "      <td>0.000000</td>\n",
       "      <td>0.000000</td>\n",
       "      <td>0.000000</td>\n",
       "      <td>0.000000</td>\n",
       "      <td>206.000000</td>\n",
       "      <td>117.000000</td>\n",
       "      <td>75.000000</td>\n",
       "      <td>23.060000</td>\n",
       "      <td>68.000000</td>\n",
       "      <td>72.000000</td>\n",
       "      <td>0.000000</td>\n",
       "    </tr>\n",
       "    <tr>\n",
       "      <th>50%</th>\n",
       "      <td>0.000000</td>\n",
       "      <td>49.000000</td>\n",
       "      <td>0.000000</td>\n",
       "      <td>0.000000</td>\n",
       "      <td>0.000000</td>\n",
       "      <td>0.000000</td>\n",
       "      <td>0.000000</td>\n",
       "      <td>0.000000</td>\n",
       "      <td>0.000000</td>\n",
       "      <td>234.000000</td>\n",
       "      <td>128.000000</td>\n",
       "      <td>82.000000</td>\n",
       "      <td>25.380000</td>\n",
       "      <td>75.000000</td>\n",
       "      <td>80.000000</td>\n",
       "      <td>0.000000</td>\n",
       "    </tr>\n",
       "    <tr>\n",
       "      <th>75%</th>\n",
       "      <td>1.000000</td>\n",
       "      <td>56.000000</td>\n",
       "      <td>1.000000</td>\n",
       "      <td>1.000000</td>\n",
       "      <td>20.000000</td>\n",
       "      <td>0.000000</td>\n",
       "      <td>0.000000</td>\n",
       "      <td>1.000000</td>\n",
       "      <td>0.000000</td>\n",
       "      <td>262.000000</td>\n",
       "      <td>144.000000</td>\n",
       "      <td>89.500000</td>\n",
       "      <td>27.990000</td>\n",
       "      <td>83.000000</td>\n",
       "      <td>85.000000</td>\n",
       "      <td>0.000000</td>\n",
       "    </tr>\n",
       "    <tr>\n",
       "      <th>max</th>\n",
       "      <td>1.000000</td>\n",
       "      <td>70.000000</td>\n",
       "      <td>1.000000</td>\n",
       "      <td>1.000000</td>\n",
       "      <td>70.000000</td>\n",
       "      <td>1.000000</td>\n",
       "      <td>1.000000</td>\n",
       "      <td>1.000000</td>\n",
       "      <td>1.000000</td>\n",
       "      <td>600.000000</td>\n",
       "      <td>295.000000</td>\n",
       "      <td>142.500000</td>\n",
       "      <td>56.800000</td>\n",
       "      <td>143.000000</td>\n",
       "      <td>394.000000</td>\n",
       "      <td>1.000000</td>\n",
       "    </tr>\n",
       "  </tbody>\n",
       "</table>\n",
       "</div>"
      ],
      "text/plain": [
       "              male          age    education  currentSmoker   cigsPerDay  \\\n",
       "count  4133.000000  4133.000000  4133.000000    4133.000000  4133.000000   \n",
       "mean      0.427293    49.557222     0.280668       0.494798     9.101621   \n",
       "std       0.494745     8.561628     0.449380       0.500033    11.918440   \n",
       "min       0.000000    32.000000     0.000000       0.000000     0.000000   \n",
       "25%       0.000000    42.000000     0.000000       0.000000     0.000000   \n",
       "50%       0.000000    49.000000     0.000000       0.000000     0.000000   \n",
       "75%       1.000000    56.000000     1.000000       1.000000    20.000000   \n",
       "max       1.000000    70.000000     1.000000       1.000000    70.000000   \n",
       "\n",
       "            BPMeds  prevalentStroke  prevalentHyp     diabetes      totChol  \\\n",
       "count  4133.000000      4133.000000   4133.000000  4133.000000  4133.000000   \n",
       "mean      0.034358         0.006049      0.311154     0.025647   236.664408   \n",
       "std       0.182168         0.077548      0.463022     0.158100    43.909188   \n",
       "min       0.000000         0.000000      0.000000     0.000000   107.000000   \n",
       "25%       0.000000         0.000000      0.000000     0.000000   206.000000   \n",
       "50%       0.000000         0.000000      0.000000     0.000000   234.000000   \n",
       "75%       0.000000         0.000000      1.000000     0.000000   262.000000   \n",
       "max       1.000000         1.000000      1.000000     1.000000   600.000000   \n",
       "\n",
       "             sysBP        diaBP          BMI    heartRate      glucose  \\\n",
       "count  4133.000000  4133.000000  4133.000000  4133.000000  4133.000000   \n",
       "mean    132.367046    82.872248    25.778571    75.925236    81.946528   \n",
       "std      22.080332    11.952654     4.074360    12.049188    22.860954   \n",
       "min      83.500000    48.000000    15.540000    44.000000    40.000000   \n",
       "25%     117.000000    75.000000    23.060000    68.000000    72.000000   \n",
       "50%     128.000000    82.000000    25.380000    75.000000    80.000000   \n",
       "75%     144.000000    89.500000    27.990000    83.000000    85.000000   \n",
       "max     295.000000   142.500000    56.800000   143.000000   394.000000   \n",
       "\n",
       "        TenYearCHD  \n",
       "count  4133.000000  \n",
       "mean      0.151948  \n",
       "std       0.359014  \n",
       "min       0.000000  \n",
       "25%       0.000000  \n",
       "50%       0.000000  \n",
       "75%       0.000000  \n",
       "max       1.000000  "
      ]
     },
     "execution_count": 35,
     "metadata": {},
     "output_type": "execute_result"
    }
   ],
   "source": [
    "dataFrame.describe()"
   ]
  },
  {
   "cell_type": "markdown",
   "metadata": {},
   "source": [
    "Membership Functions"
   ]
  },
  {
   "cell_type": "code",
   "execution_count": 171,
   "metadata": {},
   "outputs": [
    {
     "name": "stderr",
     "output_type": "stream",
     "text": [
      "d:\\Users\\miret\\anaconda3\\lib\\site-packages\\skfuzzy\\control\\fuzzyvariable.py:122: UserWarning: Matplotlib is currently using module://matplotlib_inline.backend_inline, which is a non-GUI backend, so cannot show the figure.\n",
      "  fig.show()\n"
     ]
    },
    {
     "data": {
      "image/png": "[encoded data removed]",
      "text/plain": [
       "<Figure size 432x288 with 1 Axes>"
      ]
     },
     "metadata": {
      "needs_background": "light"
     },
     "output_type": "display_data"
    }
   ],
   "source": [
    "cigsPerDay\t = ctrl.Antecedent(np.arange(0, 60), 'cigsPerDay')\n",
    "cigsPerDay['Normal'] = fuzz.trapmf(cigsPerDay.universe, [-1, 0, 5, 12])\n",
    "cigsPerDay['Heavy'] = fuzz.trapmf(cigsPerDay.universe, [10,30 ,59, 60])\n",
    "cigsPerDay.view()"
   ]
  },
  {
   "cell_type": "code",
   "execution_count": 157,
   "metadata": {},
   "outputs": [
    {
     "name": "stderr",
     "output_type": "stream",
     "text": [
      "d:\\Users\\miret\\anaconda3\\lib\\site-packages\\skfuzzy\\control\\term.py:74: UserWarning: Matplotlib is currently using module://matplotlib_inline.backend_inline, which is a non-GUI backend, so cannot show the figure.\n",
      "  fig.show()\n"
     ]
    },
    {
     "data": {
      "image/png": "[encoded data removed]",
      "text/plain": [
       "<Figure size 432x288 with 1 Axes>"
      ]
     },
     "metadata": {
      "needs_background": "light"
     },
     "output_type": "display_data"
    }
   ],
   "source": [
    "age = ctrl.Antecedent(np.arange(0, 70, 2), 'age')\n",
    "age['Child'] = fuzz.trapmf(age.universe, [-1, 0, 16, 26])\n",
    "age['Adult'] = fuzz.trapmf(age.universe, [18, 28, 42, 50])\n",
    "age['Old'] = fuzz.trapmf(age.universe, [45, 50, 79, 80])\n",
    "age['Old'].view()"
   ]
  },
  {
   "cell_type": "code",
   "execution_count": 117,
   "metadata": {},
   "outputs": [
    {
     "name": "stderr",
     "output_type": "stream",
     "text": [
      "d:\\Users\\miret\\anaconda3\\lib\\site-packages\\skfuzzy\\control\\term.py:74: UserWarning: Matplotlib is currently using module://matplotlib_inline.backend_inline, which is a non-GUI backend, so cannot show the figure.\n",
      "  fig.show()\n"
     ]
    },
    {
     "data": {
      "image/png": "[encoded data removed]",
      "text/plain": [
       "<Figure size 432x288 with 1 Axes>"
      ]
     },
     "metadata": {
      "needs_background": "light"
     },
     "output_type": "display_data"
    }
   ],
   "source": [
    "\n",
    "diabetes = ctrl.Antecedent(np.arange(0, 1.1, 0.0001), 'diabetes')\n",
    "diabetes['True'] = fuzz.trapmf(diabetes.universe, [0.5, 0.5, 1.1, 1.1])\n",
    "diabetes['True'].view()\n"
   ]
  },
  {
   "cell_type": "code",
   "execution_count": 155,
   "metadata": {},
   "outputs": [
    {
     "name": "stderr",
     "output_type": "stream",
     "text": [
      "d:\\Users\\miret\\anaconda3\\lib\\site-packages\\skfuzzy\\control\\term.py:74: UserWarning: Matplotlib is currently using module://matplotlib_inline.backend_inline, which is a non-GUI backend, so cannot show the figure.\n",
      "  fig.show()\n"
     ]
    },
    {
     "data": {
      "image/png": "[encoded data removed]",
      "text/plain": [
       "<Figure size 432x288 with 1 Axes>"
      ]
     },
     "metadata": {
      "needs_background": "light"
     },
     "output_type": "display_data"
    }
   ],
   "source": [
    "male = ctrl.Antecedent(np.arange(0, 1.1, 0.1), 'male')\n",
    "male['True'] = fuzz.trapmf(male.universe, [0.5, 0.6, 1, 1.5])\n",
    "male['True'].view()"
   ]
  },
  {
   "cell_type": "code",
   "execution_count": 160,
   "metadata": {},
   "outputs": [
    {
     "name": "stderr",
     "output_type": "stream",
     "text": [
      "d:\\Users\\miret\\anaconda3\\lib\\site-packages\\skfuzzy\\control\\fuzzyvariable.py:122: UserWarning: Matplotlib is currently using module://matplotlib_inline.backend_inline, which is a non-GUI backend, so cannot show the figure.\n",
      "  fig.show()\n"
     ]
    },
    {
     "data": {
      "image/png": "[encoded data removed]",
      "text/plain": [
       "<Figure size 432x288 with 1 Axes>"
      ]
     },
     "metadata": {
      "needs_background": "light"
     },
     "output_type": "display_data"
    }
   ],
   "source": [
    "bpSys = ctrl.Antecedent(np.arange(0, 400), 'bpSys')\n",
    "bpSys['Normal'] = fuzz.trapmf(bpSys.universe, [-1, 0, 120, 130])\n",
    "bpSys['Medium'] = fuzz.trimf(bpSys.universe, [125, 135, 160])\n",
    "bpSys['High'] = fuzz.trapmf(bpSys.universe, [150, 170, 399, 400])\n",
    "\n",
    "bpSys.view()"
   ]
  },
  {
   "cell_type": "code",
   "execution_count": 121,
   "metadata": {},
   "outputs": [
    {
     "name": "stderr",
     "output_type": "stream",
     "text": [
      "d:\\Users\\miret\\anaconda3\\lib\\site-packages\\skfuzzy\\control\\term.py:74: UserWarning: Matplotlib is currently using module://matplotlib_inline.backend_inline, which is a non-GUI backend, so cannot show the figure.\n",
      "  fig.show()\n"
     ]
    },
    {
     "data": {
      "image/png": "[encoded data removed]",
      "text/plain": [
       "<Figure size 432x288 with 1 Axes>"
      ]
     },
     "metadata": {
      "needs_background": "light"
     },
     "output_type": "display_data"
    }
   ],
   "source": [
    "# age.automf(3)\n",
    "totChol = ctrl.Antecedent(np.arange(0, 400), 'totChol')\n",
    "totChol['Normal'] = fuzz.trapmf(totChol.universe, [-1, 0, 150, 200])\n",
    "totChol['Medium'] = fuzz.trimf(totChol.universe, [180, 215, 240])\n",
    "totChol['High'] = fuzz.trapmf(totChol.universe, [235, 265, 499, 500])\n",
    "totChol['High'].view()\n",
    "# totChol \n",
    "# normal <200\n",
    "# 200< medium <240\n",
    "# high > 240\n"
   ]
  },
  {
   "cell_type": "code",
   "execution_count": 161,
   "metadata": {},
   "outputs": [
    {
     "name": "stderr",
     "output_type": "stream",
     "text": [
      "d:\\Users\\miret\\anaconda3\\lib\\site-packages\\skfuzzy\\control\\term.py:74: UserWarning: Matplotlib is currently using module://matplotlib_inline.backend_inline, which is a non-GUI backend, so cannot show the figure.\n",
      "  fig.show()\n"
     ]
    },
    {
     "data": {
      "image/png": "[encoded data removed]",
      "text/plain": [
       "<Figure size 432x288 with 1 Axes>"
      ]
     },
     "metadata": {
      "needs_background": "light"
     },
     "output_type": "display_data"
    }
   ],
   "source": [
    "# age.automf(3)\n",
    "BMi = ctrl.Antecedent(np.arange(0, 60,2), 'BMi')\n",
    "BMi['Normal'] = fuzz.trimf(BMi.universe, [0, 18 , 23])\n",
    "BMi['OverWeight'] = fuzz.trimf(BMi.universe, [23, 26, 30])\n",
    "BMi['Obese'] = fuzz.trapmf(BMi.universe, [30, 40, 59, 60])\n",
    "BMi['Obese'].view()\n",
    "# BMI\n",
    "# normal <25\n",
    "# overweiht 25-31\n",
    "# obess > 31 "
   ]
  },
  {
   "cell_type": "code",
   "execution_count": 162,
   "metadata": {},
   "outputs": [
    {
     "name": "stderr",
     "output_type": "stream",
     "text": [
      "d:\\Users\\miret\\anaconda3\\lib\\site-packages\\skfuzzy\\control\\term.py:74: UserWarning: Matplotlib is currently using module://matplotlib_inline.backend_inline, which is a non-GUI backend, so cannot show the figure.\n",
      "  fig.show()\n"
     ]
    },
    {
     "data": {
      "image/png": "[encoded data removed]",
      "text/plain": [
       "<Figure size 432x288 with 1 Axes>"
      ]
     },
     "metadata": {
      "needs_background": "light"
     },
     "output_type": "display_data"
    }
   ],
   "source": [
    "TenYearCHD = ctrl.Consequent(np.arange(0, 1.1, 0.1), 'TenYearCHD')\n",
    "TenYearCHD['True'] = fuzz.trapmf(TenYearCHD.universe, [0.3, 0.6, 1, 1.5])\n",
    "TenYearCHD['False'] = fuzz.trapmf(TenYearCHD.universe, [-1, 0, 0.4, 0.6])\n",
    "\n",
    "TenYearCHD['True'].view()"
   ]
  },
  {
   "cell_type": "markdown",
   "metadata": {},
   "source": []
  },
  {
   "cell_type": "code",
   "execution_count": 48,
   "metadata": {},
   "outputs": [],
   "source": [
    "# rule1 = ctrl.Rule( BMi['obess'] | totChol['High'], TenYearCHD['True'])\n",
    "# rule2 = ctrl.Rule(BMi['overWeight'] & cigsPerDay['heavily'], TenYearCHD['True'])\n",
    "# rule3 = ctrl.Rule(totChol['Normal'], TenYearCHD['False'])\n",
    "# rule4 = ctrl.Rule(male['True'] & BMi['overWeight'], TenYearCHD['False'])\n",
    "# rule5 = ctrl.Rule(male['True'] & cigsPerDay['normal'], TenYearCHD['False'])"
   ]
  },
  {
   "cell_type": "markdown",
   "metadata": {},
   "source": [
    "Rules for CHD --> False"
   ]
  },
  {
   "cell_type": "code",
   "execution_count": 175,
   "metadata": {},
   "outputs": [],
   "source": [
    "rule1 = ctrl.Rule((male['True'] | ~male['True']) & BMi['Normal'] & age['Child'] & ~diabetes['True'] & totChol['Normal'] & bpSys['Normal'] & cigsPerDay['Normal'], TenYearCHD['False'])\n",
    "\n",
    "rule2 = ctrl.Rule((male['True'] | ~male['True']) & BMi['Normal'] & age['Adult'] & diabetes['True'] & totChol['Normal'] & bpSys['Normal'] & cigsPerDay['Normal'], TenYearCHD['False'])\n",
    "rule3 = ctrl.Rule((male['True'] | ~male['True']) & BMi['OverWeight'] & age['Adult'] & ~diabetes['True'] & totChol['Medium'] & bpSys['Medium'] & cigsPerDay['Normal'], TenYearCHD['False'])\n",
    "\n",
    "rule4 = ctrl.Rule((male['True'] | ~male['True']) & BMi['Normal'] & age['Old'] & diabetes['True'] & totChol['Normal'] & bpSys['Normal'] & cigsPerDay['Normal'], TenYearCHD['False'])\n",
    "rule5 = ctrl.Rule((male['True'] | ~male['True']) & BMi['OverWeight'] & age['Old'] & ~diabetes['True'] & totChol['Medium'] & bpSys['Medium'] & cigsPerDay['Normal'], TenYearCHD['False'])\n",
    "rule6 = ctrl.Rule(~male['True'] & BMi['Normal'] & age['Old'] & diabetes['True'] & totChol['High'] & bpSys['High'] & cigsPerDay['Normal'], TenYearCHD['False'])\n",
    "\n",
    "rule7 = ctrl.Rule((male['True'] | ~male['True']) & BMi['Obese'] & age['Old'] & ~diabetes['True'] & totChol['Normal'] & bpSys['Normal'] & cigsPerDay['Normal'], TenYearCHD['False'])\n",
    "rule8 = ctrl.Rule((male['True'] | ~male['True']) & BMi['OverWeight'] & age['Old'] & ~diabetes['True'] & totChol['Normal'] & bpSys['Normal'] & cigsPerDay['Normal'], TenYearCHD['False'])\n",
    "\n",
    "rule9 = ctrl.Rule(~male['True'] & BMi['Obese'] & age['Old'] & diabetes['True'] & totChol['Normal'] & bpSys['Normal'] & cigsPerDay['Normal'], TenYearCHD['False'])\n",
    "rule10 = ctrl.Rule(~male['True'] & BMi['OverWeight'] & age['Old'] & diabetes['True'] & totChol['Normal'] & bpSys['Normal'] & cigsPerDay['Normal'], TenYearCHD['False'])"
   ]
  },
  {
   "cell_type": "markdown",
   "metadata": {},
   "source": [
    "Rules for CHD --> True"
   ]
  },
  {
   "cell_type": "code",
   "execution_count": 172,
   "metadata": {},
   "outputs": [],
   "source": [
    "rule11 = ctrl.Rule((male['True'] | ~male['True']) & BMi['Obese'] & age['Adult'] & ~diabetes['True'] & totChol['High'] & bpSys['High'] & cigsPerDay['Heavy'], TenYearCHD['True'])\n",
    "rule12 = ctrl.Rule((male['True'] | ~male['True']) & BMi['Obese'] & age['Adult'] & diabetes['True'] & totChol['High'] & bpSys['High'] & cigsPerDay['Heavy'], TenYearCHD['True'])\n",
    "\n",
    "rule13 = ctrl.Rule((male['True'] | ~male['True']) & BMi['Obese'] & age['Old'] & ~diabetes['True'] & totChol['Medium'] & bpSys['High'] & cigsPerDay['Heavy'], TenYearCHD['True'])\n",
    "rule14 = ctrl.Rule((male['True'] | ~male['True']) & BMi['Obese'] & age['Old'] & ~diabetes['True'] & totChol['High'] & bpSys['High'] & cigsPerDay['Heavy'], TenYearCHD['True'])\n",
    "\n",
    "rule15 = ctrl.Rule((male['True'] | ~male['True']) & BMi['Obese'] & age['Old'] & diabetes['True'] & totChol['Medium'] & bpSys['High'] & cigsPerDay['Heavy'], TenYearCHD['True'])\n",
    "rule16 = ctrl.Rule((male['True'] | ~male['True']) & BMi['Obese'] & age['Old'] & diabetes['True'] & totChol['High'] & bpSys['High'] & cigsPerDay['Heavy'], TenYearCHD['True'])\n",
    "\n",
    "rule17 = ctrl.Rule((male['True'] | ~male['True']) & BMi['OverWeight'] & age['Old'] & diabetes['True'] & totChol['High'] & bpSys['High'] & cigsPerDay['Heavy'], TenYearCHD['True'])\n",
    "rule18 = ctrl.Rule((male['True'] | ~male['True']) & BMi['OverWeight'] & age['Old'] & ~diabetes['True'] & totChol['High'] & bpSys['High'] & cigsPerDay['Heavy'], TenYearCHD['True'])"
   ]
  },
  {
   "cell_type": "code",
   "execution_count": 83,
   "metadata": {},
   "outputs": [
    {
     "data": {
      "text/plain": [
       "(<Figure size 432x288 with 1 Axes>, <AxesSubplot:>)"
      ]
     },
     "execution_count": 83,
     "metadata": {},
     "output_type": "execute_result"
    },
    {
     "data": {
      "image/png": "[encoded data removed]",
      "text/plain": [
       "<Figure size 432x288 with 1 Axes>"
      ]
     },
     "metadata": {},
     "output_type": "display_data"
    }
   ],
   "source": [
    "rule2.view()"
   ]
  },
  {
   "cell_type": "code",
   "execution_count": 105,
   "metadata": {},
   "outputs": [],
   "source": [
    "CHD_Rules = ctrl.ControlSystem([rule1, rule2, rule3, rule4, rule5, rule6, rule7])\n",
    "CHD = ctrl.ControlSystemSimulation(CHD_Rules)\n"
   ]
  },
  {
   "cell_type": "code",
   "execution_count": null,
   "metadata": {},
   "outputs": [],
   "source": [
    "dataFrame=dataFrame.drop(['education','BPMeds',\t'prevalentStroke','sysBP','diaBP','heartRate','glucose'\t], axis=1)"
   ]
  },
  {
   "cell_type": "code",
   "execution_count": 52,
   "metadata": {},
   "outputs": [],
   "source": [
    "dataFrame = np.array(dataFrame)"
   ]
  },
  {
   "cell_type": "code",
   "execution_count": 53,
   "metadata": {},
   "outputs": [
    {
     "data": {
      "text/plain": [
       "array([  1.  ,  43.  ,   1.  ,  30.  ,   1.  ,   0.  , 225.  ,  23.61,\n",
       "         0.  ])"
      ]
     },
     "execution_count": 53,
     "metadata": {},
     "output_type": "execute_result"
    }
   ],
   "source": [
    "dataFrame[9]"
   ]
  },
  {
   "cell_type": "markdown",
   "metadata": {},
   "source": []
  },
  {
   "cell_type": "markdown",
   "metadata": {},
   "source": [
    "male\tage\tcigsPerDay\ttotChol\tBMI\theartRate\tTenYearCHD"
   ]
  },
  {
   "cell_type": "code",
   "execution_count": null,
   "metadata": {},
   "outputs": [],
   "source": [
    "# out = np.empty(8)\n",
    "# for i in range( 8):\n",
    "#     current = dataFrame[i]\n",
    "#     CHD.input['BMi'] = current[7] \n",
    "#     CHD.input['cigsPerDay'] = current[3] \n",
    "#     CHD.input['currentSmoker'] = current[2] \n",
    "#     CHD.input['prevalentHyp'] =  current[4]\n",
    "#     CHD.input['diabetes'] =  current[5]\n",
    "#     CHD.input['totChol'] =  current[6]\n",
    "#     CHD.input['male'] = current[0]\n",
    "#     CHD.input['age'] = current[1] \n",
    "#     CHD.compute()\n",
    "#     out= np.append(out, CHD.output['TenYearCHD'])\n",
    "\n"
   ]
  },
  {
   "cell_type": "code",
   "execution_count": 66,
   "metadata": {},
   "outputs": [],
   "source": [
    "out= out[out>=0.5]\n"
   ]
  },
  {
   "cell_type": "code",
   "execution_count": 67,
   "metadata": {},
   "outputs": [
    {
     "data": {
      "text/plain": [
       "array([25.25      , 25.25      ,  0.686     ,  0.67435897,  0.71818182,\n",
       "        0.71818182,  0.65224515,  0.67276986,  0.71818182])"
      ]
     },
     "execution_count": 67,
     "metadata": {},
     "output_type": "execute_result"
    }
   ],
   "source": [
    "out"
   ]
  },
  {
   "cell_type": "code",
   "execution_count": 108,
   "metadata": {},
   "outputs": [],
   "source": [
    "CHD.input['BMi'] = 25.34\n",
    "CHD.input['cigsPerDay'] = 20\n",
    "CHD.input['totChol'] = 245\n",
    "CHD.input['male'] = 1\n",
    "CHD.input['diabetes'] = 0\n",
    "CHD.input['bpSys'] = 120\n",
    "CHD.input['age'] = 67"
   ]
  },
  {
   "cell_type": "markdown",
   "metadata": {},
   "source": [
    "1\t48\t20.0\t245.0\t25.34\t75.0\t0"
   ]
  },
  {
   "cell_type": "markdown",
   "metadata": {},
   "source": [
    "male\tage\tcigsPerDay\ttotChol\tBMI\theartRate\tTenYearCHD\n",
    "0\t1\t39\t0.0\t195.0\t26.97\t80.0\t0"
   ]
  },
  {
   "cell_type": "code",
   "execution_count": 109,
   "metadata": {},
   "outputs": [
    {
     "name": "stdout",
     "output_type": "stream",
     "text": [
      "0.6743589743589743\n"
     ]
    },
    {
     "name": "stderr",
     "output_type": "stream",
     "text": [
      "d:\\Users\\miret\\anaconda3\\lib\\site-packages\\skfuzzy\\control\\fuzzyvariable.py:122: UserWarning: Matplotlib is currently using module://matplotlib_inline.backend_inline, which is a non-GUI backend, so cannot show the figure.\n",
      "  fig.show()\n"
     ]
    },
    {
     "data": {
      "image/png": "[encoded data removed]",
      "text/plain": [
       "<Figure size 432x288 with 1 Axes>"
      ]
     },
     "metadata": {
      "needs_background": "light"
     },
     "output_type": "display_data"
    }
   ],
   "source": [
    "CHD.compute()\n",
    "print(CHD.output['TenYearCHD'])\n",
    "TenYearCHD.view(sim=CHD)"
   ]
  }
 ],
 "metadata": {
  "interpreter": {
   "hash": "2e3b6b0b99173f9265a096c919266c1e062fa40aa56c24545495bcfe878eb41d"
  },
  "kernelspec": {
   "display_name": "Python 3.9.5 64-bit",
   "language": "python",
   "name": "python3"
  },
  "language_info": {
   "codemirror_mode": {
    "name": "ipython",
    "version": 3
   },
   "file_extension": ".py",
   "mimetype": "text/x-python",
   "name": "python",
   "nbconvert_exporter": "python",
   "pygments_lexer": "ipython3",
   "version": "3.9.5"
  },
  "orig_nbformat": 4
 },
 "nbformat": 4,
 "nbformat_minor": 2
}
